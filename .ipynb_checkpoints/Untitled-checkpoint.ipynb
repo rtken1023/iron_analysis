{
 "cells": [
  {
   "cell_type": "code",
   "execution_count": 23,
   "metadata": {
    "collapsed": true
   },
   "outputs": [],
   "source": [
    "import pandas as pd\n",
    "\n",
    "pd.set_option('display.max_rows', 50)"
   ]
  },
  {
   "cell_type": "code",
   "execution_count": 2,
   "metadata": {},
   "outputs": [],
   "source": [
    "df = pd.read_csv('results.csv', encoding = \"ISO-8859-1\")"
   ]
  },
  {
   "cell_type": "code",
   "execution_count": null,
   "metadata": {},
   "outputs": [],
   "source": [
    "df.head()"
   ]
  },
  {
   "cell_type": "code",
   "execution_count": 3,
   "metadata": {},
   "outputs": [
    {
     "name": "stdout",
     "output_type": "stream",
     "text": [
      "<class 'pandas.core.frame.DataFrame'>\n",
      "RangeIndex: 27240 entries, 0 to 27239\n",
      "Data columns (total 12 columns):\n",
      "Unnamed: 0      27240 non-null int64\n",
      "Name            27238 non-null object\n",
      "Country         27240 non-null object\n",
      "Div Rank        27240 non-null object\n",
      "Gender Rank     27240 non-null object\n",
      "Overall Rank    27240 non-null object\n",
      "Swim            27240 non-null object\n",
      "Bike            27240 non-null object\n",
      "Run             27240 non-null object\n",
      "Finish          27240 non-null object\n",
      "Points          27240 non-null object\n",
      "Date            27240 non-null int64\n",
      "dtypes: int64(2), object(10)\n",
      "memory usage: 2.5+ MB\n"
     ]
    }
   ],
   "source": [
    "df.info()"
   ]
  },
  {
   "cell_type": "code",
   "execution_count": 4,
   "metadata": {},
   "outputs": [],
   "source": [
    "df = df.drop([\"Unnamed: 0\", 'Points'], axis=1)\n"
   ]
  },
  {
   "cell_type": "code",
   "execution_count": 5,
   "metadata": {},
   "outputs": [],
   "source": [
    "df = df.rename(index=str, columns={\"Name\":\"name\", \"Country\":\"country\", \"Div Rank\":\"div_rank\", \"Gender Rank\":\"gender_rank\", \"Overall Rank\":\"overall_rank\", \"Swim\":\"swim\", \"Bike\":\"bike\", \"Run\":\"run\", \"Finish\":\"finish\", \"Date\":\"date\"})"
   ]
  },
  {
   "cell_type": "code",
   "execution_count": 6,
   "metadata": {},
   "outputs": [
    {
     "data": {
      "text/html": [
       "<div>\n",
       "<style>\n",
       "    .dataframe thead tr:only-child th {\n",
       "        text-align: right;\n",
       "    }\n",
       "\n",
       "    .dataframe thead th {\n",
       "        text-align: left;\n",
       "    }\n",
       "\n",
       "    .dataframe tbody tr th {\n",
       "        vertical-align: top;\n",
       "    }\n",
       "</style>\n",
       "<table border=\"1\" class=\"dataframe\">\n",
       "  <thead>\n",
       "    <tr style=\"text-align: right;\">\n",
       "      <th></th>\n",
       "      <th>name</th>\n",
       "      <th>country</th>\n",
       "      <th>div_rank</th>\n",
       "      <th>gender_rank</th>\n",
       "      <th>overall_rank</th>\n",
       "      <th>swim</th>\n",
       "      <th>bike</th>\n",
       "      <th>run</th>\n",
       "      <th>finish</th>\n",
       "      <th>date</th>\n",
       "    </tr>\n",
       "  </thead>\n",
       "  <tbody>\n",
       "    <tr>\n",
       "      <th>0</th>\n",
       "      <td>Frodeno, Jan</td>\n",
       "      <td>DEU</td>\n",
       "      <td>1</td>\n",
       "      <td>1</td>\n",
       "      <td>1</td>\n",
       "      <td>00:48:02</td>\n",
       "      <td>04:29:00</td>\n",
       "      <td>02:45:34</td>\n",
       "      <td>08:06:30</td>\n",
       "      <td>20161008</td>\n",
       "    </tr>\n",
       "    <tr>\n",
       "      <th>1</th>\n",
       "      <td>Kienle, Sebastian</td>\n",
       "      <td>DEU</td>\n",
       "      <td>2</td>\n",
       "      <td>2</td>\n",
       "      <td>2</td>\n",
       "      <td>00:52:27</td>\n",
       "      <td>04:23:55</td>\n",
       "      <td>02:49:03</td>\n",
       "      <td>08:10:02</td>\n",
       "      <td>20161008</td>\n",
       "    </tr>\n",
       "    <tr>\n",
       "      <th>2</th>\n",
       "      <td>Lange, Patrick</td>\n",
       "      <td>DEU</td>\n",
       "      <td>3</td>\n",
       "      <td>3</td>\n",
       "      <td>3</td>\n",
       "      <td>00:48:57</td>\n",
       "      <td>04:37:49</td>\n",
       "      <td>02:39:45</td>\n",
       "      <td>08:11:14</td>\n",
       "      <td>20161008</td>\n",
       "    </tr>\n",
       "    <tr>\n",
       "      <th>3</th>\n",
       "      <td>Hoffman, Ben</td>\n",
       "      <td>USA</td>\n",
       "      <td>4</td>\n",
       "      <td>4</td>\n",
       "      <td>4</td>\n",
       "      <td>00:48:55</td>\n",
       "      <td>04:28:06</td>\n",
       "      <td>02:51:45</td>\n",
       "      <td>08:13:00</td>\n",
       "      <td>20161008</td>\n",
       "    </tr>\n",
       "    <tr>\n",
       "      <th>4</th>\n",
       "      <td>Boecherer, Andi</td>\n",
       "      <td>DEU</td>\n",
       "      <td>5</td>\n",
       "      <td>5</td>\n",
       "      <td>5</td>\n",
       "      <td>00:48:10</td>\n",
       "      <td>04:28:07</td>\n",
       "      <td>02:52:05</td>\n",
       "      <td>08:13:25</td>\n",
       "      <td>20161008</td>\n",
       "    </tr>\n",
       "  </tbody>\n",
       "</table>\n",
       "</div>"
      ],
      "text/plain": [
       "                name country div_rank gender_rank overall_rank      swim  \\\n",
       "0       Frodeno, Jan     DEU        1           1            1  00:48:02   \n",
       "1  Kienle, Sebastian     DEU        2           2            2  00:52:27   \n",
       "2     Lange, Patrick     DEU        3           3            3  00:48:57   \n",
       "3       Hoffman, Ben     USA        4           4            4  00:48:55   \n",
       "4    Boecherer, Andi     DEU        5           5            5  00:48:10   \n",
       "\n",
       "       bike       run    finish      date  \n",
       "0  04:29:00  02:45:34  08:06:30  20161008  \n",
       "1  04:23:55  02:49:03  08:10:02  20161008  \n",
       "2  04:37:49  02:39:45  08:11:14  20161008  \n",
       "3  04:28:06  02:51:45  08:13:00  20161008  \n",
       "4  04:28:07  02:52:05  08:13:25  20161008  "
      ]
     },
     "execution_count": 6,
     "metadata": {},
     "output_type": "execute_result"
    }
   ],
   "source": [
    "df.head()"
   ]
  },
  {
   "cell_type": "code",
   "execution_count": 7,
   "metadata": {},
   "outputs": [],
   "source": [
    "df = df.loc[df['date'] > 20131012]"
   ]
  },
  {
   "cell_type": "code",
   "execution_count": null,
   "metadata": {},
   "outputs": [],
   "source": [
    "df.head()"
   ]
  },
  {
   "cell_type": "code",
   "execution_count": 12,
   "metadata": {},
   "outputs": [],
   "source": [
    "df_finished = df[~df.finish.isin(['DNS','DNF', 'DQ'])]"
   ]
  },
  {
   "cell_type": "code",
   "execution_count": 16,
   "metadata": {},
   "outputs": [
    {
     "data": {
      "text/html": [
       "<div>\n",
       "<style>\n",
       "    .dataframe thead tr:only-child th {\n",
       "        text-align: right;\n",
       "    }\n",
       "\n",
       "    .dataframe thead th {\n",
       "        text-align: left;\n",
       "    }\n",
       "\n",
       "    .dataframe tbody tr th {\n",
       "        vertical-align: top;\n",
       "    }\n",
       "</style>\n",
       "<table border=\"1\" class=\"dataframe\">\n",
       "  <thead>\n",
       "    <tr style=\"text-align: right;\">\n",
       "      <th></th>\n",
       "      <th>name</th>\n",
       "      <th>country</th>\n",
       "      <th>div_rank</th>\n",
       "      <th>gender_rank</th>\n",
       "      <th>overall_rank</th>\n",
       "      <th>swim</th>\n",
       "      <th>bike</th>\n",
       "      <th>run</th>\n",
       "      <th>finish</th>\n",
       "      <th>date</th>\n",
       "    </tr>\n",
       "  </thead>\n",
       "  <tbody>\n",
       "  </tbody>\n",
       "</table>\n",
       "</div>"
      ],
      "text/plain": [
       "Empty DataFrame\n",
       "Columns: [name, country, div_rank, gender_rank, overall_rank, swim, bike, run, finish, date]\n",
       "Index: []"
      ]
     },
     "execution_count": 16,
     "metadata": {},
     "output_type": "execute_result"
    }
   ],
   "source": [
    "df_finished.loc[df['gender_rank'] == '---'] "
   ]
  },
  {
   "cell_type": "code",
   "execution_count": 24,
   "metadata": {},
   "outputs": [
    {
     "data": {
      "text/plain": [
       "name            2\n",
       "country         1\n",
       "div_rank        1\n",
       "gender_rank     1\n",
       "overall_rank    1\n",
       "swim            1\n",
       "bike            1\n",
       "run             1\n",
       "finish          1\n",
       "date            1\n",
       "dtype: int64"
      ]
     },
     "execution_count": 24,
     "metadata": {},
     "output_type": "execute_result"
    }
   ],
   "source": [
    "df_finished.isnull().sum()"
   ]
  },
  {
   "cell_type": "code",
   "execution_count": 26,
   "metadata": {},
   "outputs": [],
   "source": [
    "df_finished = df_finished.dropna(axis=0, how='any')"
   ]
  },
  {
   "cell_type": "code",
   "execution_count": 27,
   "metadata": {},
   "outputs": [
    {
     "data": {
      "text/plain": [
       "0          1\n",
       "1          2\n",
       "2          3\n",
       "3          4\n",
       "4          5\n",
       "5          6\n",
       "6          7\n",
       "7          8\n",
       "8          9\n",
       "9         10\n",
       "10        11\n",
       "11        12\n",
       "12        13\n",
       "13        14\n",
       "14        15\n",
       "15        16\n",
       "16        17\n",
       "17        18\n",
       "18        19\n",
       "19        20\n",
       "20        21\n",
       "21        22\n",
       "22        23\n",
       "23        24\n",
       "24        25\n",
       "        ... \n",
       "6560    1404\n",
       "6561    1405\n",
       "6562    1406\n",
       "6563     558\n",
       "6564    1407\n",
       "6565    1408\n",
       "6566    1409\n",
       "6567     559\n",
       "6568     560\n",
       "6569    1410\n",
       "6570    1411\n",
       "6571     561\n",
       "6572     562\n",
       "6573    1412\n",
       "6574    1413\n",
       "6575    1414\n",
       "6576    1415\n",
       "6577     563\n",
       "6578    1416\n",
       "6579    1417\n",
       "6580    1418\n",
       "6581    1419\n",
       "6582     564\n",
       "6583    1420\n",
       "6584    1421\n",
       "Name: gender_rank, Length: 6334, dtype: int32"
      ]
     },
     "execution_count": 27,
     "metadata": {},
     "output_type": "execute_result"
    }
   ],
   "source": [
    "df_finished['gender_rank'].astype('int')\n",
    "#df_finished.loc['gender_rank'] = df_finished.gender_rank.astype(float)"
   ]
  },
  {
   "cell_type": "code",
   "execution_count": null,
   "metadata": {},
   "outputs": [],
   "source": []
  },
  {
   "cell_type": "code",
   "execution_count": null,
   "metadata": {
    "collapsed": true
   },
   "outputs": [],
   "source": [
    "df.loc[df['gender_rank'] == 1]"
   ]
  }
 ],
 "metadata": {
  "kernelspec": {
   "display_name": "Python 3",
   "language": "python",
   "name": "python3"
  },
  "language_info": {
   "codemirror_mode": {
    "name": "ipython",
    "version": 3
   },
   "file_extension": ".py",
   "mimetype": "text/x-python",
   "name": "python",
   "nbconvert_exporter": "python",
   "pygments_lexer": "ipython3",
   "version": "3.6.3"
  }
 },
 "nbformat": 4,
 "nbformat_minor": 2
}
